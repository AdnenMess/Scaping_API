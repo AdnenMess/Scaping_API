{
 "cells": [
  {
   "cell_type": "markdown",
   "source": [
    "## Connect to the Reddit API\n",
    "\n",
    "To Connect to Reddit API, we must have :\n",
    "- account (username & password)\n",
    "- go to [reddit api documentation](https://www.reddit.com/dev/api/)\n",
    "    - Follow the instruction to connect to the API [ access rules](https://github.com/reddit-archive/reddit/wiki/API)\n",
    "    - On Rules [OAuth2](https://github.com/reddit-archive/reddit/wiki/OAuth2) we have:\n",
    "        - The lik to get the web_app & secret code [https://www.reddit.com/prefs/apps](https://www.reddit.com/prefs/apps)\n",
    "    - On [Quick Start Example](https://github.com/reddit-archive/reddit/wiki/OAuth2-Quick-Start-Example) we have :\n",
    "        - The API url to get a token : [https://www.reddit.com/api/v1/access_token](https://www.reddit.com/api/v1/access_token)\n",
    "        - An exemple how to connect with request method [Python example](https://github.com/reddit-archive/reddit/wiki/OAuth2-Quick-Start-Example#python-example)\n",
    "        - The APi url after getting the token [https://oauth.reddit.com](https://oauth.reddit.com)"
   ],
   "metadata": {
    "collapsed": false,
    "pycharm": {
     "name": "#%% md\n"
    }
   }
  },
  {
   "cell_type": "code",
   "execution_count": 1,
   "outputs": [],
   "source": [
    "import json\n",
    "from pathlib import Path\n",
    "\n",
    "import requests.auth"
   ],
   "metadata": {
    "collapsed": false,
    "pycharm": {
     "name": "#%%\n"
    }
   }
  },
  {
   "cell_type": "code",
   "execution_count": 2,
   "outputs": [],
   "source": [
    "path = Path.cwd().parent / \"secret\"\n",
    "\n",
    "def open_file(file_name):\n",
    "    \"\"\"\n",
    "    :param file_name: must be json file\n",
    "    :return: load json file on variable\n",
    "    \"\"\"\n",
    "    with open(path / file_name, \"r\") as file:\n",
    "        return json.load(file)\n",
    "\n",
    "user_name = open_file(\"user_name.json\")\n",
    "reddit_key = open_file(\"reddit_key.json\")"
   ],
   "metadata": {
    "collapsed": false,
    "pycharm": {
     "name": "#%%\n"
    }
   }
  },
  {
   "cell_type": "code",
   "execution_count": 3,
   "outputs": [],
   "source": [
    "user = list(reddit_key.keys())[0]\n",
    "secret = list(reddit_key.values())[0]\n",
    "username =list(user_name.keys())[0]\n",
    "password = list(user_name.values())[0]"
   ],
   "metadata": {
    "collapsed": false,
    "pycharm": {
     "name": "#%%\n"
    }
   }
  },
  {
   "cell_type": "markdown",
   "source": [
    "## Getting the token code"
   ],
   "metadata": {
    "collapsed": false,
    "pycharm": {
     "name": "#%% md\n"
    }
   }
  },
  {
   "cell_type": "code",
   "execution_count": 4,
   "outputs": [],
   "source": [
    "client_auth = requests.auth.HTTPBasicAuth(user,secret)\n",
    "post_data={\"grant_type\":\"password\",\"username\":username, \"password\":password}\n",
    "headers={\"User-agent\":\"FORMATION\"}"
   ],
   "metadata": {
    "collapsed": false,
    "pycharm": {
     "name": "#%%\n"
    }
   }
  },
  {
   "cell_type": "code",
   "execution_count": 5,
   "outputs": [
    {
     "name": "stdout",
     "output_type": "stream",
     "text": [
      "200\n"
     ]
    }
   ],
   "source": [
    "response = requests.post('https://www.reddit.com/api/v1/access_token',\n",
    "                    auth=client_auth, data=post_data, headers=headers)\n",
    "print(response.status_code)"
   ],
   "metadata": {
    "collapsed": false,
    "pycharm": {
     "name": "#%%\n"
    }
   }
  },
  {
   "cell_type": "markdown",
   "source": [
    "## Access to the API"
   ],
   "metadata": {
    "collapsed": false,
    "pycharm": {
     "name": "#%% md\n"
    }
   }
  },
  {
   "cell_type": "code",
   "execution_count": 6,
   "outputs": [],
   "source": [
    "access_token = 'bearer ' + response.json()[\"access_token\"]"
   ],
   "metadata": {
    "collapsed": false,
    "pycharm": {
     "name": "#%%\n"
    }
   }
  },
  {
   "cell_type": "code",
   "execution_count": 7,
   "outputs": [],
   "source": [
    "headers = {\"authorization\" : access_token, \"User-agent\" : \"FORMATION\"}\n",
    "params = {\"t\" : \"day\"} # to get the last day\n",
    "resp = requests.get(\"https://oauth.reddit.com/r/python/top\", headers=headers, params=params).json()"
   ],
   "metadata": {
    "collapsed": false,
    "pycharm": {
     "name": "#%%\n"
    }
   }
  },
  {
   "cell_type": "markdown",
   "source": [
    "**Save results on JSON file**"
   ],
   "metadata": {
    "collapsed": false,
    "pycharm": {
     "name": "#%% md\n"
    }
   }
  },
  {
   "cell_type": "code",
   "execution_count": 8,
   "outputs": [],
   "source": [
    "json_file = Path.cwd() / \"python_top.json\"\n",
    "json_file.touch()"
   ],
   "metadata": {
    "collapsed": false,
    "pycharm": {
     "name": "#%%\n"
    }
   }
  },
  {
   "cell_type": "code",
   "execution_count": 9,
   "outputs": [],
   "source": [
    "with open(json_file, \"w\") as f:\n",
    "    json.dump(resp, f, indent=4)\n"
   ],
   "metadata": {
    "collapsed": false,
    "pycharm": {
     "name": "#%%\n"
    }
   }
  },
  {
   "cell_type": "markdown",
   "source": [
    "## Extract the most popular article"
   ],
   "metadata": {
    "collapsed": false,
    "pycharm": {
     "name": "#%% md\n"
    }
   }
  },
  {
   "cell_type": "code",
   "execution_count": 10,
   "outputs": [],
   "source": [
    "file_path = Path.cwd() / \"python_top.json\"\n",
    "with open(file_path, 'r') as f:\n",
    "    python_top = json.load(f)"
   ],
   "metadata": {
    "collapsed": false,
    "pycharm": {
     "name": "#%%\n"
    }
   }
  },
  {
   "cell_type": "code",
   "execution_count": 11,
   "outputs": [
    {
     "name": "stdout",
     "output_type": "stream",
     "text": [
      "127 \n",
      " wr8f5u\n"
     ]
    }
   ],
   "source": [
    "python_top_article = python_top['data']['children']\n",
    "most_upvoted = \"\"\n",
    "most_upvotes = 0\n",
    "for article in python_top_article:\n",
    "    ar = article['data']\n",
    "    if ar['ups'] >= most_upvotes:\n",
    "        most_upvoted = ar['id']\n",
    "        most_upvotes = ar['ups']\n",
    "print(most_upvotes,\"\\n\", most_upvoted)\n",
    "ID = most_upvoted"
   ],
   "metadata": {
    "collapsed": false,
    "pycharm": {
     "name": "#%%\n"
    }
   }
  },
  {
   "cell_type": "markdown",
   "source": [
    "## Extract all comments"
   ],
   "metadata": {
    "collapsed": false,
    "pycharm": {
     "name": "#%% md\n"
    }
   }
  },
  {
   "cell_type": "markdown",
   "source": [
    "To extract comments from reddit, we have to connect to [https://oauth.reddit.com/r/python/comments/{id}](www.reddit.com/r/python/top/comments/) and for this exemple the id = most_upvoted"
   ],
   "metadata": {
    "collapsed": false,
    "pycharm": {
     "name": "#%% md\n"
    }
   }
  },
  {
   "cell_type": "code",
   "execution_count": 12,
   "outputs": [
    {
     "name": "stdout",
     "output_type": "stream",
     "text": [
      "https://oauth.reddit.com/r/python/comments/wr8f5u\n"
     ]
    }
   ],
   "source": [
    "urls = \"https://oauth.reddit.com/r/python/comments/\" + ID\n",
    "print(urls)\n",
    "\n",
    "comments = requests.get(urls, headers=headers).json()\n",
    "with open(\"popular_comment.json\", 'w') as f:\n",
    "    json.dump(comments, f, indent=4)"
   ],
   "metadata": {
    "collapsed": false,
    "pycharm": {
     "name": "#%%\n"
    }
   }
  },
  {
   "cell_type": "markdown",
   "source": [
    "## Get the most popular comment"
   ],
   "metadata": {
    "collapsed": false,
    "pycharm": {
     "name": "#%% md\n"
    }
   }
  },
  {
   "cell_type": "code",
   "execution_count": 13,
   "outputs": [
    {
     "name": "stdout",
     "output_type": "stream",
     "text": [
      "20 \n",
      " iks2uc5\n",
      "https://oauth.reddit.com/r/python/comments/wr8f5u/iks2uc5\n"
     ]
    }
   ],
   "source": [
    "with open('popular_comment.json', 'r') as f:\n",
    "    comment = json.load(f)\n",
    "python_top_article  = comment[1]['data']['children'] # data are located on second block\n",
    "most_upvoted = \"\"\n",
    "most_upvotes = 0\n",
    "for article in python_top_article:\n",
    "    ar = article['data']\n",
    "    if ar['ups'] >= most_upvotes:\n",
    "        most_upvoted = ar['id']\n",
    "        most_upvotes = ar['ups']\n",
    "print(most_upvotes,\"\\n\", most_upvoted)\n",
    "ids = most_upvoted\n",
    "urls = \"https://oauth.reddit.com/r/python/comments\" +\"/\"+ID+\"/\"+ ids\n",
    "print(urls)"
   ],
   "metadata": {
    "collapsed": false,
    "pycharm": {
     "name": "#%%\n"
    }
   }
  },
  {
   "cell_type": "markdown",
   "source": [
    "The most popular comment is [https://oauth.reddit.com/r/python/comments/wr8f5u/iks2uc5](https://oauth.reddit.com/r/python/comments/wr8f5u/iks2uc5)"
   ],
   "metadata": {
    "collapsed": false,
    "pycharm": {
     "name": "#%% md\n"
    }
   }
  }
 ],
 "metadata": {
  "kernelspec": {
   "display_name": "Python 3",
   "language": "python",
   "name": "python3"
  },
  "language_info": {
   "codemirror_mode": {
    "name": "ipython",
    "version": 2
   },
   "file_extension": ".py",
   "mimetype": "text/x-python",
   "name": "python",
   "nbconvert_exporter": "python",
   "pygments_lexer": "ipython2",
   "version": "2.7.6"
  }
 },
 "nbformat": 4,
 "nbformat_minor": 0
}