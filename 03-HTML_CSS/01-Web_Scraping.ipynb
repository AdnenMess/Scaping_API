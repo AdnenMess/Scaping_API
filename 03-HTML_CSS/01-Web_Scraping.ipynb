{
 "cells": [
  {
   "cell_type": "code",
   "execution_count": 1,
   "metadata": {
    "collapsed": true,
    "pycharm": {
     "name": "#%%\n"
    }
   },
   "outputs": [],
   "source": [
    "import requests"
   ]
  },
  {
   "cell_type": "code",
   "execution_count": 3,
   "outputs": [
    {
     "name": "stdout",
     "output_type": "stream",
     "text": [
      "b'<html>\\r\\n  <head>\\r\\n      <title> Un exemple de page HTML </title>\\r\\n  </head>\\r\\n\\r\\n  <body>\\r\\n      <p>Un simple paragraphe</p>\\r\\n  </body>\\r\\n</html>'\n"
     ]
    }
   ],
   "source": [
    "url = \"https://raw.githubusercontent.com/codelikerod/web-scraping/master/exemple1.html\"\n",
    "response = requests.get(url)\n",
    "content = response.content\n",
    "print(content)"
   ],
   "metadata": {
    "collapsed": false,
    "pycharm": {
     "name": "#%%\n"
    }
   }
  },
  {
   "cell_type": "markdown",
   "source": [
    "## Get elements from a webpage"
   ],
   "metadata": {
    "collapsed": false,
    "pycharm": {
     "name": "#%% md\n"
    }
   }
  },
  {
   "cell_type": "markdown",
   "source": [
    "We have to install\n",
    "```shell\n",
    "pip install BeautifulSoup4\n",
    "```"
   ],
   "metadata": {
    "collapsed": false,
    "pycharm": {
     "name": "#%% md\n"
    }
   }
  },
  {
   "cell_type": "code",
   "execution_count": 4,
   "outputs": [],
   "source": [
    "from bs4 import BeautifulSoup"
   ],
   "metadata": {
    "collapsed": false,
    "pycharm": {
     "name": "#%%\n"
    }
   }
  },
  {
   "cell_type": "code",
   "execution_count": 40,
   "outputs": [
    {
     "name": "stdout",
     "output_type": "stream",
     "text": [
      "1er paragraphe\n"
     ]
    }
   ],
   "source": [
    "parse = BeautifulSoup(content) # to get the result in HTML format\n",
    "body = parse.body # body pour <body> </body>\n",
    "p=body.p.text  # p pour <p> </p>\n",
    "print(p)"
   ],
   "metadata": {
    "collapsed": false,
    "pycharm": {
     "name": "#%%\n"
    }
   }
  },
  {
   "cell_type": "code",
   "execution_count": 41,
   "outputs": [
    {
     "name": "stdout",
     "output_type": "stream",
     "text": [
      " Un exemple de page HTML \n"
     ]
    }
   ],
   "source": [
    "parse = BeautifulSoup(content)\n",
    "head = parse.head # head pour <head> </head>\n",
    "title = head.title.text  # title pour <title> </title>\n",
    "print(title)"
   ],
   "metadata": {
    "collapsed": false,
    "pycharm": {
     "name": "#%%\n"
    }
   }
  },
  {
   "cell_type": "markdown",
   "source": [
    "## Find All"
   ],
   "metadata": {
    "collapsed": false,
    "pycharm": {
     "name": "#%% md\n"
    }
   }
  },
  {
   "cell_type": "code",
   "execution_count": 42,
   "outputs": [
    {
     "name": "stdout",
     "output_type": "stream",
     "text": [
      "[<body>\n",
      "<div>\n",
      "<p id=\"first\">1er paragraphe</p>\n",
      "</div>\n",
      "<p id=\"second\">2nd paragraphe</p>\n",
      "</body>]\n"
     ]
    }
   ],
   "source": [
    "parser = BeautifulSoup(content ,'html.parser')\n",
    "\n",
    "body = parser.find_all(\"body\")\n",
    "print(body)"
   ],
   "metadata": {
    "collapsed": false,
    "pycharm": {
     "name": "#%%\n"
    }
   }
  },
  {
   "cell_type": "code",
   "execution_count": 43,
   "outputs": [
    {
     "name": "stdout",
     "output_type": "stream",
     "text": [
      "[<p id=\"first\">1er paragraphe</p>, <p id=\"second\">2nd paragraphe</p>]\n"
     ]
    }
   ],
   "source": [
    "p = body[0].find_all(\"p\")\n",
    "print(p)"
   ],
   "metadata": {
    "collapsed": false,
    "pycharm": {
     "name": "#%%\n"
    }
   }
  },
  {
   "cell_type": "code",
   "execution_count": 44,
   "outputs": [
    {
     "name": "stdout",
     "output_type": "stream",
     "text": [
      "1er paragraphe\n"
     ]
    }
   ],
   "source": [
    "print(p[0].text)"
   ],
   "metadata": {
    "collapsed": false,
    "pycharm": {
     "name": "#%%\n"
    }
   }
  },
  {
   "cell_type": "code",
   "execution_count": 45,
   "outputs": [
    {
     "name": "stdout",
     "output_type": "stream",
     "text": [
      " Un exemple de page HTML \n"
     ]
    }
   ],
   "source": [
    "head = parser.find_all(\"head\")\n",
    "title = head[0].find_all(\"title\")\n",
    "title_text = title[0].text\n",
    "print(title_text)"
   ],
   "metadata": {
    "collapsed": false,
    "pycharm": {
     "name": "#%%\n"
    }
   }
  },
  {
   "cell_type": "markdown",
   "source": [
    "## Find by IDs"
   ],
   "metadata": {
    "collapsed": false,
    "pycharm": {
     "name": "#%% md\n"
    }
   }
  },
  {
   "cell_type": "code",
   "execution_count": 46,
   "outputs": [
    {
     "name": "stdout",
     "output_type": "stream",
     "text": [
      "<html>\n",
      "<head>\n",
      "<title> Un exemple de page HTML </title>\n",
      "</head>\n",
      "<body>\n",
      "<div>\n",
      "<p id=\"first\">1er paragraphe</p>\n",
      "</div>\n",
      "<p id=\"second\">2nd paragraphe</p>\n",
      "</body>\n",
      "</html>\n"
     ]
    }
   ],
   "source": [
    "url2 = \"https://raw.githubusercontent.com/codelikerod/web-scraping/master/exemple2.html\"\n",
    "content = requests.get(url2).content\n",
    "parser = BeautifulSoup(content, 'html.parser')\n",
    "print(parser)"
   ],
   "metadata": {
    "collapsed": false,
    "pycharm": {
     "name": "#%%\n"
    }
   }
  },
  {
   "cell_type": "code",
   "execution_count": 47,
   "outputs": [
    {
     "name": "stdout",
     "output_type": "stream",
     "text": [
      "1er paragraphe\n"
     ]
    }
   ],
   "source": [
    "ID = parser.find_all(\"p\", id=\"first\")[0].text\n",
    "print(ID)"
   ],
   "metadata": {
    "collapsed": false,
    "pycharm": {
     "name": "#%%\n"
    }
   }
  },
  {
   "cell_type": "markdown",
   "source": [
    "## Find by Class"
   ],
   "metadata": {
    "collapsed": false,
    "pycharm": {
     "name": "#%% md\n"
    }
   }
  },
  {
   "cell_type": "code",
   "execution_count": 53,
   "outputs": [
    {
     "name": "stdout",
     "output_type": "stream",
     "text": [
      "1er paragraphe classe 1\n"
     ]
    }
   ],
   "source": [
    "url3 = \"https://raw.githubusercontent.com/codelikerod/web-scraping/master/exemple3.html\"\n",
    "content = requests.get(url3).content\n",
    "parser = BeautifulSoup(content, 'html.parser')\n",
    "first_class1 = parser.find_all(\"p\", class_=\"class1\")[0].text\n",
    "print(first_class1)"
   ],
   "metadata": {
    "collapsed": false,
    "pycharm": {
     "name": "#%%\n"
    }
   }
  },
  {
   "cell_type": "markdown",
   "source": [
    "## Select by CSS"
   ],
   "metadata": {
    "collapsed": false,
    "pycharm": {
     "name": "#%% md\n"
    }
   }
  },
  {
   "cell_type": "code",
   "execution_count": 63,
   "outputs": [
    {
     "name": "stdout",
     "output_type": "stream",
     "text": [
      "1er paragraphe classe 1\r\n",
      "      \n"
     ]
    }
   ],
   "source": [
    "url4 = \"https://raw.githubusercontent.com/codelikerod/web-scraping/master/exemple4.html\"\n",
    "content = requests.get(url4).content\n",
    "parser = BeautifulSoup(content, 'html.parser')\n",
    "first_item = parser.select(\".first-item\")[0].text\n",
    "print(first_item)"
   ],
   "metadata": {
    "collapsed": false,
    "pycharm": {
     "name": "#%%\n"
    }
   }
  },
  {
   "cell_type": "code",
   "execution_count": 72,
   "outputs": [
    {
     "name": "stdout",
     "output_type": "stream",
     "text": [
      "1er paragraphe class 2\r\n",
      "      \n"
     ]
    }
   ],
   "source": [
    "id_second = parser.select(\"#second\")[0].text  # '#' to select id\n",
    "print(id_second)"
   ],
   "metadata": {
    "collapsed": false,
    "pycharm": {
     "name": "#%%\n"
    }
   }
  },
  {
   "cell_type": "markdown",
   "source": [
    "Select all element of class2"
   ],
   "metadata": {
    "collapsed": false,
    "pycharm": {
     "name": "#%% md\n"
    }
   }
  },
  {
   "cell_type": "code",
   "execution_count": 74,
   "outputs": [
    {
     "name": "stdout",
     "output_type": "stream",
     "text": [
      "[<p class=\"class2 first-item\" id=\"second\">1er paragraphe class 2\r\n",
      "      </p>, <p class=\"class2\">2nd paragraphe class 2\r\n",
      "      </p>]\n"
     ]
    }
   ],
   "source": [
    "class2 = parser.select(\".class2\")\n",
    "print(class2)"
   ],
   "metadata": {
    "collapsed": false,
    "pycharm": {
     "name": "#%%\n"
    }
   }
  },
  {
   "cell_type": "markdown",
   "source": [
    "## Associate selectors in CSS"
   ],
   "metadata": {
    "collapsed": false,
    "pycharm": {
     "name": "#%% md\n"
    }
   }
  },
  {
   "cell_type": "markdown",
   "source": [
    "- div p\n",
    "- div .first-item\n",
    "- body div #first\n",
    "- .first-item #first"
   ],
   "metadata": {
    "collapsed": false,
    "pycharm": {
     "name": "#%% md\n"
    }
   }
  },
  {
   "cell_type": "code",
   "execution_count": 108,
   "outputs": [
    {
     "name": "stdout",
     "output_type": "stream",
     "text": [
      "fault of Chelsea =  24\n",
      "good pass of PSG =  545\n"
     ]
    }
   ],
   "source": [
    "url5 = \"https://raw.githubusercontent.com/codelikerod/web-scraping/master/psg-vs-chelsea.html\"\n",
    "content = requests.get(url5).content\n",
    "parser = BeautifulSoup(content)\n",
    "\n",
    "chelsea_offences_count = parser.select(\"#fautes\")[0].select(\"td\")[1].text\n",
    "print(\"fault of Chelsea = \",chelsea_offences_count)\n",
    "\n",
    "psg_pass_count = parser.select(\"#passes\")[0].select(\"td\")[-1].text\n",
    "print(\"good pass of PSG = \",psg_pass_count)"
   ],
   "metadata": {
    "collapsed": false,
    "pycharm": {
     "name": "#%%\n"
    }
   }
  }
 ],
 "metadata": {
  "kernelspec": {
   "display_name": "Python 3",
   "language": "python",
   "name": "python3"
  },
  "language_info": {
   "codemirror_mode": {
    "name": "ipython",
    "version": 2
   },
   "file_extension": ".py",
   "mimetype": "text/x-python",
   "name": "python",
   "nbconvert_exporter": "python",
   "pygments_lexer": "ipython2",
   "version": "2.7.6"
  }
 },
 "nbformat": 4,
 "nbformat_minor": 0
}